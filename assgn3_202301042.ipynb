{
  "nbformat": 4,
  "nbformat_minor": 0,
  "metadata": {
    "colab": {
      "provenance": [],
      "authorship_tag": "ABX9TyNL79GPfanYUDpPUJBVB3Ty",
      "include_colab_link": true
    },
    "kernelspec": {
      "name": "python3",
      "display_name": "Python 3"
    },
    "language_info": {
      "name": "python"
    }
  },
  "cells": [
    {
      "cell_type": "markdown",
      "metadata": {
        "id": "view-in-github",
        "colab_type": "text"
      },
      "source": [
        "<a href=\"https://colab.research.google.com/github/PalakCode1/big-data/blob/main/assgn3_202301042.ipynb\" target=\"_parent\"><img src=\"https://colab.research.google.com/assets/colab-badge.svg\" alt=\"Open In Colab\"/></a>"
      ]
    },
    {
      "cell_type": "code",
      "execution_count": 3,
      "metadata": {
        "id": "8n9soQBC5hoU"
      },
      "outputs": [],
      "source": [
        "import pandas as pd\n",
        "new_data={\n",
        "        'Tid':[1,2,3,4,5,6,7,8,9,10],\n",
        "        'Refund':['yes','no','no','yes','no','no','yes','no','no','no'],\n",
        "        'Martial_status':['single','married','single','married','divorced','married','divorced','single','married','single'],\n",
        "        'Taxable_Income':['125k','100k','70k','120k','95k','60k','220k','85k','75k','90k'],\n",
        "        'Cheat':['no','no','no','no','yes','no','no','yes','no','yes']}"
      ]
    },
    {
      "cell_type": "code",
      "source": [
        "data=pd.DataFrame(new_data)"
      ],
      "metadata": {
        "id": "OxipARXBAJ2b"
      },
      "execution_count": 4,
      "outputs": []
    },
    {
      "cell_type": "code",
      "source": [
        "print(data)"
      ],
      "metadata": {
        "colab": {
          "base_uri": "https://localhost:8080/"
        },
        "id": "xEckTbNJAYBA",
        "outputId": "b1ab1460-5a06-4b87-d6b5-2dc792d79541"
      },
      "execution_count": 5,
      "outputs": [
        {
          "output_type": "stream",
          "name": "stdout",
          "text": [
            "   Tid Refund Martial_status Taxable_Income Cheat\n",
            "0    1    yes         single           125k    no\n",
            "1    2     no        married           100k    no\n",
            "2    3     no         single            70k    no\n",
            "3    4    yes        married           120k    no\n",
            "4    5     no       divorced            95k   yes\n",
            "5    6     no        married            60k    no\n",
            "6    7    yes       divorced           220k    no\n",
            "7    8     no         single            85k   yes\n",
            "8    9     no        married            75k    no\n",
            "9   10     no         single            90k   yes\n"
          ]
        }
      ]
    },
    {
      "cell_type": "code",
      "source": [
        "rows = data.iloc[[0, 4, 7, 8]]\n",
        "\n",
        "print(rows)"
      ],
      "metadata": {
        "colab": {
          "base_uri": "https://localhost:8080/"
        },
        "id": "sW5uRoG2AYEP",
        "outputId": "5c24d1fe-2abb-46bf-aa1a-9c2828511f07"
      },
      "execution_count": 6,
      "outputs": [
        {
          "output_type": "stream",
          "name": "stdout",
          "text": [
            "   Tid Refund Martial_status Taxable_Income Cheat\n",
            "0    1    yes         single           125k    no\n",
            "4    5     no       divorced            95k   yes\n",
            "7    8     no         single            85k   yes\n",
            "8    9     no        married            75k    no\n"
          ]
        }
      ]
    },
    {
      "cell_type": "code",
      "source": [
        "df=pd.read_csv('/content/data.csv')"
      ],
      "metadata": {
        "id": "sQbNy-MCAepx"
      },
      "execution_count": 8,
      "outputs": []
    },
    {
      "cell_type": "code",
      "source": [
        "print(df)"
      ],
      "metadata": {
        "colab": {
          "base_uri": "https://localhost:8080/"
        },
        "id": "gV9YhqEJAes9",
        "outputId": "88cafde6-8781-4cc1-92ef-075816e11c91"
      },
      "execution_count": 9,
      "outputs": [
        {
          "output_type": "stream",
          "name": "stdout",
          "text": [
            "     Duration  Pulse  Maxpulse  Calories\n",
            "0          60    110       130     409.1\n",
            "1          60    117       145     479.0\n",
            "2          60    103       135     340.0\n",
            "3          45    109       175     282.4\n",
            "4          45    117       148     406.0\n",
            "..        ...    ...       ...       ...\n",
            "164        60    105       140     290.8\n",
            "165        60    110       145     300.0\n",
            "166        60    115       145     310.2\n",
            "167        75    120       150     320.4\n",
            "168        75    125       150     330.4\n",
            "\n",
            "[169 rows x 4 columns]\n"
          ]
        }
      ]
    }
  ]
}